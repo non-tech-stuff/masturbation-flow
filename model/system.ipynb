{
 "metadata": {
  "language_info": {
   "codemirror_mode": {
    "name": "ipython",
    "version": 3
   },
   "file_extension": ".py",
   "mimetype": "text/x-python",
   "name": "python",
   "nbconvert_exporter": "python",
   "pygments_lexer": "ipython3",
   "version": 3
  },
  "orig_nbformat": 4
 },
 "nbformat": 4,
 "nbformat_minor": 2,
 "cells": [
  {
   "cell_type": "code",
   "execution_count": null,
   "metadata": {},
   "outputs": [],
   "source": [
    "# Body - 3 parts\n",
    "# 1. Readying\n",
    "# 2. Doing it\n",
    "# 3. Wrap up"
   ]
  },
  {
   "cell_type": "code",
   "execution_count": null,
   "metadata": {},
   "outputs": [],
   "source": [
    "# 1. Readying\n",
    "Get comfortable.\n",
    "* Select your content - from library, if stored. Ignore otherwise.\n",
    "* Write down task after this, and forget about it for now.\n",
    "* Mental preparation\n",
    "* Drink water\n",
    "* Perfume yourself(and/or the environment) - emotional control and relaxation --> stress buster\n",
    "* Sit comfortably - posture and blood-circulation\n",
    "* Spill control prep\n",
    "* Switch of all external distractions."
   ]
  },
  {
   "cell_type": "code",
   "execution_count": null,
   "metadata": {},
   "outputs": [],
   "source": [
    "2. Doing it - \n",
    "* Optional  - find content(s), if you want to use any.\n",
    "* Optional(but imp) - Decide stimulus(i) - content or activity.\n",
    "* Relax and enjoy"
   ]
  },
  {
   "cell_type": "code",
   "execution_count": null,
   "metadata": {},
   "outputs": [],
   "source": [
    "3. After - * Washup or bath, whatever\n",
    "Resume task as written in 1."
   ]
  }
 ]
}