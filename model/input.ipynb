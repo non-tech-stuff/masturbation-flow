{
 "metadata": {
  "language_info": {
   "codemirror_mode": {
    "name": "ipython",
    "version": 3
   },
   "file_extension": ".py",
   "mimetype": "text/x-python",
   "name": "python",
   "nbconvert_exporter": "python",
   "pygments_lexer": "ipython3",
   "version": 3
  },
  "orig_nbformat": 4
 },
 "nbformat": 4,
 "nbformat_minor": 2,
 "cells": [
  {
   "source": [
    "Why: for fun and sexual health\n",
    "Hack axiom: input --> system --> output\n",
    "Input = some stimulation\n",
    "System = me\n",
    "Output = pleasure, happiness and peace."
   ],
   "cell_type": "code",
   "metadata": {},
   "execution_count": null,
   "outputs": []
  },
  {
   "cell_type": "code",
   "execution_count": null,
   "metadata": {},
   "outputs": [],
   "source": [
    "#Input\n",
    "Internal - fantasizing, self_touching\n",
    "External - experience external sexual activity --> audio, visual, video(current)"
   ]
  },
  {
   "cell_type": "code",
   "execution_count": null,
   "metadata": {},
   "outputs": [],
   "source": [
    "# What input to feed\n",
    "# Internal is very important, but i've not used that for a while now.\n",
    "# Figure out external input...\n",
    "Audio - never tried, ignore\n",
    "Visual - will think\n",
    "Both - video"
   ]
  },
  {
   "cell_type": "code",
   "execution_count": null,
   "metadata": {},
   "outputs": [],
   "source": [
    "# Figuring out good Visual + Video\n",
    "It's just data, so just access it.\n",
    "# note: it seems that chasing data is more fun, then getting it all at once - so games\n",
    "\n",
    "# Yeah gamify finding pleasure spots, this will be comfortable, healthy and enjoyable too.\n",
    "# fixme: very important aspect"
   ]
  },
  {
   "cell_type": "code",
   "execution_count": null,
   "metadata": {},
   "outputs": [],
   "source": [
    "# OK so maybe compulsion is due to instant access and quick dopamine hits, but no feelgood: absense of foreplay or touch, and speed is too much maybe.\n",
    "\n",
    "# porn is not bad, access mechanism is the problem"
   ]
  }
 ]
}